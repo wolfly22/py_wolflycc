{
 "metadata": {
  "language_info": {
   "codemirror_mode": {
    "name": "ipython",
    "version": 3
   },
   "file_extension": ".py",
   "mimetype": "text/x-python",
   "name": "python",
   "nbconvert_exporter": "python",
   "pygments_lexer": "ipython3",
   "version": "3.8.1-final"
  },
  "orig_nbformat": 2,
  "kernelspec": {
   "name": "python3",
   "display_name": "Python 3.8.1 64-bit",
   "metadata": {
    "interpreter": {
     "hash": "004de6046f1b3d314f33fdb43a2dc798b2646e5600efd8df5066c8b63a00ff6d"
    }
   }
  }
 },
 "nbformat": 4,
 "nbformat_minor": 2,
 "cells": [
  {
   "cell_type": "code",
   "execution_count": 31,
   "metadata": {},
   "outputs": [
    {
     "output_type": "stream",
     "name": "stdout",
     "text": [
      "C:\nWindows\n    --[2]\nexplorer.exe[244]\n    --[2]\nC:\nProgram Files (x86)\n    --[2]\nGoogle\n    --[2]\nChrome\n    --[2]\nApplication\n    --[2]\nchrome.exe[248]\n    --[2]\nC:\nWindows\n    --[2]\nSystem32\n    --[2]\nWUDFHost.exe[388]\n    --[2]\nC:\nWindows\n    --[2]\nSystem32\n    --[2]\nsmss.exe[416]\n    --[2]\nC:\nWindows\n    --[2]\nSystem32\n    --[2]\ncsrss.exe[616]\n    --[2]\nC:\nWindows\n    --[2]\nSystem32\n    --[2]\nsvchost.exe[712]\n    --[2]\nC:\nWindows\n    --[2]\nSystem32\n    --[2]\nwininit.exe[716]\n    --[2]\nC:\nWindows\n    --[2]\nSystem32\n    --[2]\ncsrss.exe[724]\n    --[2]\nC:\nWindows\n    --[2]\nSystem32\n    --[2]\nservices.exe[788]\n    --[2]\nE:\nMicrosoft VS Code\n    --[2]\nCode.exe[816]\n    --[2]\nC:\nWindows\n    --[2]\nSystem32\n    --[2]\nlsass.exe[832]\n    --[2]\nC:\nWindows\n    --[2]\nSystem32\n    --[2]\nwinlogon.exe[844]\n    --[2]\nC:\nWindows\n    --[2]\nSystem32\n    --[2]\nsvchost.exe[952]\n    --[2]\nC:\nWindows\n    --[2]\nSystem32\n    --[2]\nsvchost.exe[980]\n    --[2]\nC:\nWindows\n    --[2]\nSystem32\n    --[2]\nfontdrvhost.exe[1004]\n    --[2]\nC:\nWindows\n    --[2]\nSystem32\n    --[2]\nfontdrvhost.exe[1092]\n    --[2]\nC:\nWindows\n    --[2]\nSystem32\n    --[2]\nsvchost.exe[1104]\n    --[2]\nC:\nWindows\n    --[2]\nSystem32\n    --[2]\ntaskhostw.exe[1304]\n    --[2]\nC:\nWindows\n    --[2]\nSystem32\n    --[2]\nsvchost.exe[1332]\n    --[2]\nC:\nWindows\n    --[2]\nSystem32\n    --[2]\nsvchost.exe[1340]\n    --[2]\nE:\nMicrosoft VS Code\n    --[2]\nCode.exe[1400]\n    --[2]\nC:\nWindows\n    --[2]\nSystem32\n    --[2]\nsvchost.exe[1416]\n    --[2]\nC:\nWindows\n    --[2]\nSystem32\n    --[2]\nRuntimeBroker.exe[1424]\n    --[2]\nC:\nWindows\n    --[2]\nSystem32\n    --[2]\nsvchost.exe[1428]\n    --[2]\nC:\nWindows\n    --[2]\nSystem32\n    --[2]\nsvchost.exe[1476]\n    --[2]\nC:\nWindows\n    --[2]\nSystem32\n    --[2]\nsvchost.exe[1484]\n    --[2]\nC:\nProgram Files (x86)\n    --[2]\nGoogle\n    --[2]\nChrome\n    --[2]\nApplication\n    --[2]\nchrome.exe[1508]\n    --[2]\nC:\nWindows\n    --[2]\nSystem32\n    --[2]\nsvchost.exe[1568]\n    --[2]\nC:\nWindows\n    --[2]\nSystem32\n    --[2]\nsvchost.exe[1596]\n    --[2]\nC:\nWindows\n    --[2]\nSystem32\n    --[2]\nSecurityHealthService.exe[1612]\n    --[2]\nC:\nWindows\n    --[2]\nSystem32\n    --[2]\nSynTPHelper.exe[1632]\n    --[2]\nC:\nWindows\n    --[2]\nSystem32\n    --[2]\nsvchost.exe[1640]\n    --[2]\nC:\nWindows\n    --[2]\nSystem32\n    --[2]\nsvchost.exe[1676]\n    --[2]\nC:\nWindows\n    --[2]\nSystem32\n    --[2]\nsvchost.exe[1700]\n    --[2]\nC:\nWindows\n    --[2]\nSystem32\n    --[2]\nsvchost.exe[1708]\n    --[2]\nC:\nWindows\n    --[2]\nSystem32\n    --[2]\nsvchost.exe[1716]\n    --[2]\nC:\nWindows\n    --[2]\nSystem32\n    --[2]\nsvchost.exe[1808]\n    --[2]\nC:\nWindows\n    --[2]\nSystem32\n    --[2]\nDriverStore\n    --[2]\nFileRepository\n    --[2]\nigdlh64.inf_amd64_bdd37d808cfdf045\n    --[2]\nigfxCUIService.exe[1984]\n    --[2]\nC:\nWindows\n    --[2]\nSystem32\n    --[2]\nsvchost.exe[1996]\n    --[2]\nC:\nWindows\n    --[2]\nSystem32\n    --[2]\nsvchost.exe[2012]\n    --[2]\nC:\nWindows\n    --[2]\nSystem32\n    --[2]\nsvchost.exe[2036]\n    --[2]\nC:\nWindows\n    --[2]\nSystem32\n    --[2]\nSynTPEnhService.exe[2096]\n    --[2]\nC:\nWindows\n    --[2]\nSystem32\n    --[2]\nsvchost.exe[2140]\n    --[2]\nC:\nWindows\n    --[2]\nSystem32\n    --[2]\nsvchost.exe[2148]\n    --[2]\nC:\nWindows\n    --[2]\nSystemApps\n    --[2]\nShellExperienceHost_cw5n1h2txyewy\n    --[2]\nShellExperienceHost.exe[2220]\n    --[2]\nC:\nWindows\n    --[2]\nSystem32\n    --[2]\nsvchost.exe[2236]\n    --[2]\nC:\nWindows\n    --[2]\nSystem32\n    --[2]\nsvchost.exe[2276]\n    --[2]\nC:\nProgram Files (x86)\n    --[2]\nGoogle\n    --[2]\nChrome\n    --[2]\nApplication\n    --[2]\nchrome.exe[2300]\n    --[2]\nC:\nWindows\n    --[2]\nSystem32\n    --[2]\ndasHost.exe[2380]\n    --[2]\nC:\nProgram Files\n    --[2]\nNVIDIA Corporation\n    --[2]\nDisplay.NvContainer\n    --[2]\nNVDisplay.Container.exe[2400]\n    --[2]\nC:\nProgram Files (x86)\n    --[2]\nGoogle\n    --[2]\nUpdate\n    --[2]\n1.3.36.72\n    --[2]\nGoogleCrashHandler.exe[2452]\n    --[2]\nC:\nWindows\n    --[2]\nSystem32\n    --[2]\nsvchost.exe[2484]\n    --[2]\nC:\nWindows\n    --[2]\nSystem32\n    --[2]\nsvchost.exe[2592]\n    --[2]\nC:\nWindows\n    --[2]\nSystem32\n    --[2]\nsvchost.exe[2600]\n    --[2]\nC:\nWindows\n    --[2]\nSystem32\n    --[2]\nctfmon.exe[2616]\n    --[2]\nC:\nWindows\n    --[2]\nSystem32\n    --[2]\nsvchost.exe[2680]\n    --[2]\nC:\nWindows\n    --[2]\nSystem32\n    --[2]\nsvchost.exe[2688]\n    --[2]\nC:\nProgram Files (x86)\n    --[2]\nGoogle\n    --[2]\nUpdate\n    --[2]\n1.3.36.72\n    --[2]\nGoogleCrashHandler64.exe[2716]\n    --[2]\nMemCompression[2756]\n    --[2]\nC:\nWindows\n    --[2]\nSystem32\n    --[2]\nsvchost.exe[2800]\n    --[2]\nC:\nProgram Files\n    --[2]\nNVIDIA Corporation\n    --[2]\nDisplay.NvContainer\n    --[2]\nNVDisplay.Container.exe[2912]\n    --[2]\nC:\nProgram Files (x86)\n    --[2]\nGoogle\n    --[2]\nChrome\n    --[2]\nApplication\n    --[2]\nchrome.exe[2928]\n    --[2]\nC:\nWindows\n    --[2]\nSystem32\n    --[2]\nRuntimeBroker.exe[2932]\n    --[2]\nC:\nWindows\n    --[2]\nSystem32\n    --[2]\nsvchost.exe[2940]\n    --[2]\nC:\nWindows\n    --[2]\nSystem32\n    --[2]\nsvchost.exe[3024]\n    --[2]\nC:\nWindows\n    --[2]\nSystem32\n    --[2]\nsvchost.exe[3076]\n    --[2]\nC:\nWindows\n    --[2]\nSystem32\n    --[2]\nsvchost.exe[3084]\n    --[2]\nC:\nWindows\n    --[2]\nSystem32\n    --[2]\nsvchost.exe[3092]\n    --[2]\nC:\nProgram Files (x86)\n    --[2]\nGoogle\n    --[2]\nChrome\n    --[2]\nApplication\n    --[2]\nchrome.exe[3204]\n    --[2]\nC:\nProgram Files\n    --[2]\nCommon Files\n    --[2]\nIntel\n    --[2]\nWirelessCommon\n    --[2]\nRegSrvc.exe[3228]\n    --[2]\nC:\nWindows\n    --[2]\nSystem32\n    --[2]\nsvchost.exe[3268]\n    --[2]\nC:\nWindows\n    --[2]\nSystem32\n    --[2]\nsvchost.exe[3288]\n    --[2]\nE:\nEverything\n    --[2]\nEverything.exe[3300]\n    --[2]\nC:\nWindows\n    --[2]\nSystem32\n    --[2]\nsvchost.exe[3340]\n    --[2]\nC:\nWindows\n    --[2]\nSysWOW64\n    --[2]\nvmnat.exe[3372]\n    --[2]\nC:\nWindows\n    --[2]\nSystem32\n    --[2]\nsvchost.exe[3468]\n    --[2]\nC:\nWindows\n    --[2]\nSystem32\n    --[2]\nsvchost.exe[3520]\n    --[2]\nC:\nWindows\n    --[2]\nSystem32\n    --[2]\nsvchost.exe[3528]\n    --[2]\nC:\nWindows\n    --[2]\nSystem32\n    --[2]\nwlanext.exe[3552]\n    --[2]\nC:\nWindows\n    --[2]\nSystem32\n    --[2]\nconhost.exe[3572]\n    --[2]\nC:\nWindows\n    --[2]\nSystem32\n    --[2]\nibtsiva.exe[3580]\n    --[2]\nC:\nWindows\n    --[2]\nSystem32\n    --[2]\nsihost.exe[3604]\n    --[2]\nC:\nWindows\n    --[2]\nSystem32\n    --[2]\nspoolsv.exe[3612]\n    --[2]\nC:\nWindows\n    --[2]\nSystem32\n    --[2]\nRuntimeBroker.exe[3628]\n    --[2]\nC:\nWindows\n    --[2]\nSystem32\n    --[2]\nsvchost.exe[3704]\n    --[2]\nC:\nWindows\n    --[2]\nSystem32\n    --[2]\nsvchost.exe[3736]\n    --[2]\nC:\nWindows\n    --[2]\nSystem32\n    --[2]\nSgrmBroker.exe[3748]\n    --[2]\nC:\nWindows\n    --[2]\nSystem32\n    --[2]\nsvchost.exe[3756]\n    --[2]\nC:\nProgram Files\n    --[2]\nRealtek\n    --[2]\nAudio\n    --[2]\nHDA\nRtkNGUI64.exe[3824]\n    --[2]\nC:\nProgram Files (x86)\n    --[2]\nGoogle\n    --[2]\nChrome\n    --[2]\nApplication\n    --[2]\nchrome.exe[3912]\n    --[2]\nC:\nWindows\n    --[2]\nSystem32\n    --[2]\nsvchost.exe[4048]\n    --[2]\nC:\nWindows\n    --[2]\nSystem32\n    --[2]\nsvchost.exe[4072]\n    --[2]\nC:\nProgram Files\n    --[2]\nIntel\n    --[2]\nWiFi\n    --[2]\nbin\nEvtEng.exe[4084]\n    --[2]\nC:\nWindows\n    --[2]\nSystem32\n    --[2]\nDriverStore\n    --[2]\nFileRepository\n    --[2]\nigdlh64.inf_amd64_bdd37d808cfdf045\n    --[2]\nIntelCpHDCPSvc.exe[4100]\n    --[2]\nC:\nWindows\n    --[2]\nSysWOW64\n    --[2]\nvmnetdhcp.exe[4108]\n    --[2]\nC:\nWindows\n    --[2]\nSystem32\n    --[2]\nsvchost.exe[4116]\n    --[2]\nC:\nWindows\n    --[2]\nSystem32\n    --[2]\nsvchost.exe[4124]\n    --[2]\nC:\nWindows\n    --[2]\nSystem32\n    --[2]\ndrivers\n    --[2]\nRivetNetworks\n    --[2]\nKiller\n    --[2]\nKillerAnalyticsService.exe[4160]\n    --[2]\nC:\nProgram Files (x86)\n    --[2]\nCommon Files\n    --[2]\nTencent\n    --[2]\nQQProtect\n    --[2]\nBin\nQQProtect.exe[4180]\n    --[2]\nC:\nWindows\n    --[2]\nSystem32\n    --[2]\nsvchost.exe[4188]\n    --[2]\nC:\nWindows\n    --[2]\nSystem32\n    --[2]\nsvchost.exe[4196]\n    --[2]\nC:\nWindows\n    --[2]\nSystem32\n    --[2]\nsvchost.exe[4232]\n    --[2]\nC:\nWindows\n    --[2]\nSystem32\n    --[2]\nSynTPEnh.exe[4268]\n    --[2]\nC:\nWindows\n    --[2]\nSystem32\n    --[2]\nsvchost.exe[4284]\n    --[2]\nC:\nWindows\n    --[2]\nSystem32\n    --[2]\nsvchost.exe[4324]\n    --[2]\nC:\nWindows\n    --[2]\nSystem32\n    --[2]\nsvchost.exe[4368]\n    --[2]\nC:\nProgram Files\n    --[2]\nIntel\n    --[2]\nWiFi\n    --[2]\nbin\nZeroConfigService.exe[4424]\n    --[2]\nC:\nWindows\n    --[2]\nSystem32\n    --[2]\nsvchost.exe[4556]\n    --[2]\nC:\nWindows\n    --[2]\nSystem32\n    --[2]\nDriverStore\n    --[2]\nFileRepository\n    --[2]\nigdlh64.inf_amd64_bdd37d808cfdf045\n    --[2]\nigfxEM.exe[4624]\n    --[2]\nC:\nWindows\n    --[2]\nSystem32\n    --[2]\nSearchProtocolHost.exe[4636]\n    --[2]\nC:\nWindows\n    --[2]\nSystem32\n    --[2]\nsvchost.exe[4640]\n    --[2]\nC:\nWindows\n    --[2]\nSystem32\n    --[2]\nsvchost.exe[4648]\n    --[2]\nC:\nProgram Files (x86)\n    --[2]\nCommon Files\n    --[2]\nVMware\n    --[2]\nUSB\nvmware-usbarbitrator64.exe[4700]\n    --[2]\nC:\nWindows\n    --[2]\nSystem32\n    --[2]\nsvchost.exe[4716]\n    --[2]\nC:\nWindows\n    --[2]\nSystem32\n    --[2]\nsvchost.exe[4728]\n    --[2]\nC:\nWindows\n    --[2]\nSystem32\n    --[2]\nsvchost.exe[4736]\n    --[2]\nC:\nWindows\n    --[2]\nSystem32\n    --[2]\nsvchost.exe[4812]\n    --[2]\nE:\nMicrosoft VS Code\n    --[2]\nCode.exe[4848]\n    --[2]\nE:\nMicrosoft VS Code\n    --[2]\nCode.exe[4880]\n    --[2]\nC:\nProgram Files (x86)\n    --[2]\nGoogle\n    --[2]\nChrome\n    --[2]\nApplication\n    --[2]\nchrome.exe[4952]\n    --[2]\nC:\nWindows\n    --[2]\nSystem32\n    --[2]\nDriverStore\n    --[2]\nFileRepository\n    --[2]\nigdlh64.inf_amd64_bdd37d808cfdf045\n    --[2]\nIntelCpHeciSvc.exe[4984]\n    --[2]\nE:\nVMware\n    --[2]\nVMware Workstation\n    --[2]\nvmware-authd.exe[5032]\n    --[2]\nC:\nWindows\n    --[2]\nSystem32\n    --[2]\ndrivers\n    --[2]\nRivetNetworks\n    --[2]\nKiller\n    --[2]\nxTendSoftAPService.exe[5252]\n    --[2]\nC:\nWindows\n    --[2]\nSystem32\n    --[2]\ndrivers\n    --[2]\nRivetNetworks\n    --[2]\nKiller\n    --[2]\nxTendUtilityService.exe[5260]\n    --[2]\nC:\nWindows\n    --[2]\nSystem32\n    --[2]\nDriverStore\n    --[2]\nFileRepository\n    --[2]\ndal.inf_amd64_ffc75848a6342fdf\n    --[2]\njhi_service.exe[5268]\n    --[2]\nC:\nWindows\n    --[2]\nSystem32\n    --[2]\nsvchost.exe[5356]\n    --[2]\nC:\nWindows\n    --[2]\nSystemApps\n    --[2]\nMicrosoft.Windows.Cortana_cw5n1h2txyewy\n    --[2]\nSearchUI.exe[5364]\n    --[2]\nC:\nProgram Files (x86)\n    --[2]\nGoogle\n    --[2]\nChrome\n    --[2]\nApplication\n    --[2]\nchrome.exe[5712]\n    --[2]\nC:\nWindows\n    --[2]\nSystem32\n    --[2]\nsvchost.exe[5840]\n    --[2]\nC:\nWindows\n    --[2]\nSystem32\n    --[2]\nsvchost.exe[5912]\n    --[2]\nC:\nWindows\n    --[2]\nSystem32\n    --[2]\ndrivers\n    --[2]\nRivetNetworks\n    --[2]\nKiller\n    --[2]\nxTendSoftAP.exe[5948]\n    --[2]\nC:\nWindows\n    --[2]\nSystem32\n    --[2]\ndrivers\n    --[2]\nRivetNetworks\n    --[2]\nKiller\n    --[2]\nxTendUtility.exe[5956]\n    --[2]\nC:\nWindows\n    --[2]\nSystem32\n    --[2]\nconhost.exe[5964]\n    --[2]\nC:\nWindows\n    --[2]\nSystem32\n    --[2]\nconhost.exe[5972]\n    --[2]\nC:\nWindows\n    --[2]\nSystem32\n    --[2]\nsvchost.exe[6256]\n    --[2]\nC:\nWindows\n    --[2]\nSystem32\n    --[2]\nSearchIndexer.exe[6264]\n    --[2]\nC:\nProgram Files (x86)\n    --[2]\nGoogle\n    --[2]\nChrome\n    --[2]\nApplication\n    --[2]\nchrome.exe[6384]\n    --[2]\nC:\nWindows\n    --[2]\nSystem32\n    --[2]\nwbem\n    --[2]\nunsecapp.exe[6388]\n    --[2]\nE:\nSnipaste-2.4-Beta-x64\n    --[2]\nSnipaste.exe[6396]\n    --[2]\nC:\nWindows\n    --[2]\nSystem32\n    --[2]\nsvchost.exe[6480]\n    --[2]\nC:\nWindows\n    --[2]\nSystem32\n    --[2]\nwbem\n    --[2]\nWmiPrvSE.exe[6520]\n    --[2]\nE:\nyinxiangNote\n    --[2]\nEvernoteSubprocess.exe[6528]\n    --[2]\nE:\nVMware\n    --[2]\nVMware Workstation\n    --[2]\nvmware-hostd.exe[6612]\n    --[2]\nC:\nWindows\n    --[2]\nSystem32\n    --[2]\nconhost.exe[6688]\n    --[2]\nC:\nUsers\n    --[2]\nAdministrator\n    --[2]\nAppData\n    --[2]\nLocal\n    --[2]\nPrograms\n    --[2]\nPython\n    --[2]\nPython38\n    --[2]\npython.exe[7112]\n    --[2]\nC:\nWindows\n    --[2]\nSystem32\n    --[2]\ncmd.exe[7204]\n    --[2]\nE:\nyinxiangNote\n    --[2]\nEvernoteClipper.exe[7212]\n    --[2]\nE:\nVMware\n    --[2]\nVMware Workstation\n    --[2]\nvmware-tray.exe[7220]\n    --[2]\nC:\nUsers\n    --[2]\nAdministrator\n    --[2]\nAppData\n    --[2]\nLocal\n    --[2]\nPrograms\n    --[2]\nPython\n    --[2]\nPython38\n    --[2]\npython.exe[7228]\n    --[2]\nC:\nWindows\n    --[2]\nSystem32\n    --[2]\nsvchost.exe[7316]\n    --[2]\nC:\nUsers\n    --[2]\nAdministrator\n    --[2]\nAppData\n    --[2]\nLocal\n    --[2]\nPrograms\n    --[2]\nPython\n    --[2]\nPython38\n    --[2]\npython.exe[7328]\n    --[2]\nC:\nUsers\n    --[2]\nAdministrator\n    --[2]\nAppData\n    --[2]\nLocal\n    --[2]\nPrograms\n    --[2]\nPython\n    --[2]\nPython38\n    --[2]\npython.exe[7504]\n    --[2]\nC:\nWindows\n    --[2]\nSystemApps\n    --[2]\nInputApp_cw5n1h2txyewy\n    --[2]\nWindowsInternal.ComposableShell.Experiences.TextInput.InputApp.exe[7540]\n    --[2]\nC:\nProgram Files (x86)\n    --[2]\nGoogle\n    --[2]\nChrome\n    --[2]\nApplication\n    --[2]\nchrome.exe[7772]\n    --[2]\nE:\nyinxiangNote\n    --[2]\nEvernoteSubprocess.exe[7788]\n    --[2]\nC:\nWindows\n    --[2]\nSystem32\n    --[2]\nsvchost.exe[8036]\n    --[2]\nC:\nWindows\n    --[2]\nservicing\n    --[2]\nTrustedInstaller.exe[8108]\n    --[2]\nC:\nWindows\n    --[2]\nSysWOW64\n    --[2]\nsvchost.exe[8156]\n    --[2]\nC:\nWindows\n    --[2]\nSystem32\n    --[2]\nsvchost.exe[8224]\n    --[2]\nC:\nProgram Files (x86)\n    --[2]\nGoogle\n    --[2]\nChrome\n    --[2]\nApplication\n    --[2]\nchrome.exe[8440]\n    --[2]\nC:\nWindows\n    --[2]\nSystem32\n    --[2]\nsvchost.exe[8472]\n    --[2]\nE:\nyinxiangNote\n    --[2]\nEvernoteSubprocess.exe[8848]\n    --[2]\nE:\nyinxiangNote\n    --[2]\nEvernoteSubprocess.exe[8924]\n    --[2]\nE:\nyinxiangNote\n    --[2]\nEvernoteSubprocess.exe[8984]\n    --[2]\nC:\nWindows\n    --[2]\nSystem32\n    --[2]\nApplicationFrameHost.exe[9252]\n    --[2]\nE:\nyinxiangNote\n    --[2]\nEvernoteSubprocess.exe[9404]\n    --[2]\nC:\nProgram Files (x86)\n    --[2]\nGoogle\n    --[2]\nChrome\n    --[2]\nApplication\n    --[2]\nchrome.exe[9448]\n    --[2]\nC:\nProgram Files (x86)\n    --[2]\nGoogle\n    --[2]\nChrome\n    --[2]\nApplication\n    --[2]\nchrome.exe[9596]\n    --[2]\nC:\nProgram Files (x86)\n    --[2]\nGoogle\n    --[2]\nChrome\n    --[2]\nApplication\n    --[2]\nchrome.exe[10016]\n    --[2]\nC:\nWindows\n    --[2]\nSystem32\n    --[2]\nsvchost.exe[10140]\n    --[2]\nC:\nWindows\n    --[2]\nSystem32\n    --[2]\nsvchost.exe[10244]\n    --[2]\nE:\nyinxiangNote\n    --[2]\nEvernoteSubprocess.exe[10336]\n    --[2]\nC:\nProgram Files (x86)\n    --[2]\nGoogle\n    --[2]\nChrome\n    --[2]\nApplication\n    --[2]\nchrome.exe[10380]\n    --[2]\nC:\nWindows\n    --[2]\nSystem32\n    --[2]\ndllhost.exe[10408]\n    --[2]\nC:\nProgram Files (x86)\n    --[2]\nGoogle\n    --[2]\nChrome\n    --[2]\nApplication\n    --[2]\nchrome.exe[10544]\n    --[2]\nE:\nyinxiangNote\n    --[2]\nEvernoteSubprocess.exe[10628]\n    --[2]\nE:\nMicrosoft VS Code\n    --[2]\nCode.exe[10788]\n    --[2]\nC:\nWindows\n    --[2]\nSystem32\n    --[2]\ndllhost.exe[10808]\n    --[2]\nC:\nWindows\n    --[2]\nWinSxS\n    --[2]\namd64_microsoft-windows-servicingstack_31bf3856ad364e35_10.0.17763.1812_none_56b727f399423259\n    --[2]\nTiWorker.exe[10944]\n    --[2]\nC:\nWindows\n    --[2]\nSystem32\n    --[2]\naudiodg.exe[10976]\n    --[2]\nE:\nyinxiangNote\n    --[2]\nEvernoteSubprocess.exe[11120]\n    --[2]\nC:\nUsers\n    --[2]\nAdministrator\n    --[2]\nAppData\n    --[2]\nLocal\n    --[2]\nPrograms\n    --[2]\nPython\n    --[2]\nPython38\n    --[2]\npython.exe[11144]\n    --[2]\nE:\nyinxiangNote\n    --[2]\nEvernoteTray.exe[11172]\n    --[2]\nE:\nMicrosoft VS Code\n    --[2]\nCode.exe[11308]\n    --[2]\nC:\nWindows\n    --[2]\nSystem32\n    --[2]\nconhost.exe[11500]\n    --[2]\nE:\nyinxiangNote\n    --[2]\nEvernoteSubprocess.exe[11596]\n    --[2]\nC:\nWindows\n    --[2]\nSystem32\n    --[2]\nconhost.exe[11636]\n    --[2]\nC:\nProgram Files (x86)\n    --[2]\nGoogle\n    --[2]\nChrome\n    --[2]\nApplication\n    --[2]\nchrome.exe[11680]\n    --[2]\nC:\nWindows\n    --[2]\nSystem32\n    --[2]\ndwm.exe[12044]\n    --[2]\nC:\nWindows\n    --[2]\nSystem32\n    --[2]\nsvchost.exe[12108]\n    --[2]\nC:\nWindows\n    --[2]\nSystem32\n    --[2]\nconhost.exe[12452]\n    --[2]\nC:\nWindows\n    --[2]\nSystem32\n    --[2]\nsvchost.exe[12660]\n    --[2]\nC:\nWindows\n    --[2]\nSystem32\n    --[2]\ntaskhostw.exe[12952]\n    --[2]\nC:\nUsers\n    --[2]\nAdministrator\n    --[2]\nAppData\n    --[2]\nLocal\n    --[2]\nPrograms\n    --[2]\nPython\n    --[2]\nPython38\n    --[2]\npython.exe[13052]\n    --[2]\nE:\nMicrosoft VS Code\n    --[2]\nCode.exe[13128]\n    --[2]\nC:\nProgram Files (x86)\n    --[2]\nGoogle\n    --[2]\nChrome\n    --[2]\nApplication\n    --[2]\nchrome.exe[13192]\n    --[2]\nC:\nProgram Files (x86)\n    --[2]\nGoogle\n    --[2]\nChrome\n    --[2]\nApplication\n    --[2]\nchrome.exe[13252]\n    --[2]\nC:\nProgram Files (x86)\n    --[2]\nGoogle\n    --[2]\nChrome\n    --[2]\nApplication\n    --[2]\nchrome.exe[13540]\n    --[2]\nE:\nMicrosoft VS Code\n    --[2]\nCode.exe[13740]\n    --[2]\nE:\nyinxiangNote\n    --[2]\nEvernoteSubprocess.exe[13828]\n    --[2]\nC:\nProgram Files (x86)\n    --[2]\nGoogle\n    --[2]\nChrome\n    --[2]\nApplication\n    --[2]\nchrome.exe[13900]\n    --[2]\nC:\nProgram Files (x86)\n    --[2]\nGoogle\n    --[2]\nChrome\n    --[2]\nApplication\n    --[2]\nchrome.exe[14072]\n    --[2]\nE:\nMicrosoft VS Code\n    --[2]\nCode.exe[14076]\n    --[2]\nC:\nWindows\n    --[2]\nSystem32\n    --[2]\ndasHost.exe[14516]\n    --[2]\nC:\nWindows\n    --[2]\nSystem32\n    --[2]\nWindowsPowerShell\n    --[2]\nv1.0\n    --[2]\npowershell.exe[14644]\n    --[2]\nC:\nProgram Files (x86)\n    --[2]\nGoogle\n    --[2]\nChrome\n    --[2]\nApplication\n    --[2]\nchrome.exe[14900]\n    --[2]\nE:\nyinxiangNote\n    --[2]\nEvernote.exe[15024]\n    --[2]\nC:\nUsers\n    --[2]\nAdministrator\n    --[2]\nAppData\n    --[2]\nLocal\n    --[2]\nPrograms\n    --[2]\nPython\n    --[2]\nPython38\n    --[2]\npython.exe[15288]\n    --[2]\nC:\nProgramData\n    --[2]\nMicrosoft\n    --[2]\nWindows Defender\n    --[2]\nPlatform\n    --[2]\n4.18.2103.6-0\n    --[2]\nMsMpEng.exe[15392]\n    --[2]\nC:\nWindows\n    --[2]\nSystem32\n    --[2]\nSearchFilterHost.exe[15536]\n    --[2]\nC:\nProgram Files (x86)\n    --[2]\nGoogle\n    --[2]\nChrome\n    --[2]\nApplication\n    --[2]\nchrome.exe[15564]\n    --[2]\nC:\nProgram Files (x86)\n    --[2]\nGoogle\n    --[2]\nChrome\n    --[2]\nApplication\n    --[2]\nchrome.exe[15672]\n    --[2]\nC:\nProgram Files (x86)\n    --[2]\nGoogle\n    --[2]\nChrome\n    --[2]\nApplication\n    --[2]\nchrome.exe[15776]\n    --[2]\nC:\nWindows\n    --[2]\nSystem32\n    --[2]\nconhost.exe[16092]\n    --[2]\nC:\nUsers\n    --[2]\nAdministrator\n    --[2]\nAppData\n    --[2]\nLocal\n    --[2]\nPrograms\n    --[2]\nPython\n    --[2]\nPython38\n    --[2]\npython.exe[16288]\n    --[2]\nC:\nProgram Files (x86)\n    --[2]\nGoogle\n    --[2]\nChrome\n    --[2]\nApplication\n    --[2]\nchrome.exe[16600]\n    --[2]\nC:\nProgram Files (x86)\n    --[2]\nGoogle\n    --[2]\nChrome\n    --[2]\nApplication\n    --[2]\nchrome.exe[16628]\n    --[2]\nC:\nWindows\n    --[2]\nImmersiveControlPanel\n    --[2]\nSystemSettings.exe[16672]\n    --[2]\nC:\nWindows\n    --[2]\nSystem32\n    --[2]\nsvchost.exe[17076]\n    --[2]\nC:\nProgram Files (x86)\n    --[2]\nGoogle\n    --[2]\nChrome\n    --[2]\nApplication\n    --[2]\nchrome.exe[17368]\n    --[2]\nE:\nMicrosoft VS Code\n    --[2]\nCode.exe[17380]\n    --[2]\n"
     ]
    }
   ],
   "source": [
    "import psutil\n",
    "\n",
    "lists = psutil.pids()\n",
    "# print( lists )\n",
    "file_lists = []\n",
    "for i in lists:\n",
    "    if(i>=150):\n",
    "        p = psutil.Process(i)\n",
    "        file_lists.append(str(p.exe())+'['+str(i)+']')\n",
    "# print(file_lists)\n",
    "name_temp = []\n",
    "for i in file_lists:\n",
    "    temp_str = i.split('\\\\')\n",
    "    for i in temp_str:\n",
    "        level_a = []\n",
    "        level_b = []\n",
    "        level_c = ''\n",
    "        level_d = ''\n",
    "        print( i )\n",
    "        for ii in range(len(i)-1):\n",
    "            if(ii==0):\n",
    "                for a in level_a:\n",
    "                    if(a!=ii):\n",
    "                        level_a.append(i[ii])\n",
    "                        print(i[ii])\n",
    "            elif(ii==1):\n",
    "                for b in level_b:\n",
    "                    if(ii!=b):\n",
    "                        level_b.append([ii])\n",
    "                        print(' '*4+'--'+str([ii]))\n",
    "            elif(ii==2):\n",
    "                print(' '*4+'--'+str([ii]))\n",
    "\n",
    "\n"
   ]
  },
  {
   "cell_type": "code",
   "execution_count": 16,
   "metadata": {},
   "outputs": [
    {
     "output_type": "stream",
     "name": "stdout",
     "text": [
      "[pthread(id=8872, user_time=112.53125, system_time=6.546875), pthread(id=10668, user_time=0.0, system_time=0.0), pthread(id=15080, user_time=0.0, system_time=0.0), pthread(id=7028, user_time=12.515625, system_time=8.59375), pthread(id=15904, user_time=0.0, system_time=0.0), pthread(id=10552, user_time=0.0, system_time=0.0), pthread(id=2072, user_time=59.640625, system_time=7.734375), pthread(id=10108, user_time=0.0, system_time=0.0), pthread(id=3296, user_time=2.078125, system_time=0.25), pthread(id=10968, user_time=2.015625, system_time=0.171875), pthread(id=6428, user_time=1.65625, system_time=0.15625), pthread(id=15732, user_time=1.65625, system_time=0.28125), pthread(id=10540, user_time=1.4375, system_time=0.15625), pthread(id=16180, user_time=0.015625, system_time=0.046875), pthread(id=9124, user_time=0.046875, system_time=0.015625), pthread(id=7428, user_time=0.015625, system_time=0.015625)]\n"
     ]
    },
    {
     "output_type": "execute_result",
     "data": {
      "text/plain": [
       "['__add__',\n",
       " '__class__',\n",
       " '__contains__',\n",
       " '__delattr__',\n",
       " '__dir__',\n",
       " '__doc__',\n",
       " '__eq__',\n",
       " '__format__',\n",
       " '__ge__',\n",
       " '__getattribute__',\n",
       " '__getitem__',\n",
       " '__getnewargs__',\n",
       " '__gt__',\n",
       " '__hash__',\n",
       " '__init__',\n",
       " '__init_subclass__',\n",
       " '__iter__',\n",
       " '__le__',\n",
       " '__len__',\n",
       " '__lt__',\n",
       " '__module__',\n",
       " '__mul__',\n",
       " '__ne__',\n",
       " '__new__',\n",
       " '__reduce__',\n",
       " '__reduce_ex__',\n",
       " '__repr__',\n",
       " '__rmul__',\n",
       " '__setattr__',\n",
       " '__sizeof__',\n",
       " '__slots__',\n",
       " '__str__',\n",
       " '__subclasshook__',\n",
       " '_asdict',\n",
       " '_field_defaults',\n",
       " '_fields',\n",
       " '_fields_defaults',\n",
       " '_make',\n",
       " '_replace',\n",
       " 'count',\n",
       " 'id',\n",
       " 'index',\n",
       " 'system_time',\n",
       " 'user_time']"
      ]
     },
     "metadata": {},
     "execution_count": 16
    }
   ],
   "source": [
    "xx = psutil.Process(lists[4]).threads()\n",
    "type(xx[0])\n",
    "print(xx)\n",
    "dir(xx[0])"
   ]
  },
  {
   "cell_type": "code",
   "execution_count": 17,
   "metadata": {},
   "outputs": [
    {
     "output_type": "stream",
     "name": "stdout",
     "text": [
      "8872 --- <built-in method index of pthread object at 0x00000202BBF7A5E0> --- <built-in method count of pthread object at 0x00000202BBF7A5E0>\n"
     ]
    }
   ],
   "source": [
    "print(xx[0].id,'---',xx[0].index,'---',xx[0].count)"
   ]
  },
  {
   "cell_type": "code",
   "execution_count": null,
   "metadata": {},
   "outputs": [],
   "source": []
  }
 ]
}