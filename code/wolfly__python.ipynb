{
 "metadata": {
  "language_info": {
   "codemirror_mode": {
    "name": "ipython",
    "version": 3
   },
   "file_extension": ".py",
   "mimetype": "text/x-python",
   "name": "python",
   "nbconvert_exporter": "python",
   "pygments_lexer": "ipython3",
   "version": "3.8.1"
  },
  "orig_nbformat": 4,
  "kernelspec": {
   "name": "python3",
   "display_name": "Python 3.8.1 64-bit"
  },
  "interpreter": {
   "hash": "004de6046f1b3d314f33fdb43a2dc798b2646e5600efd8df5066c8b63a00ff6d"
  }
 },
 "nbformat": 4,
 "nbformat_minor": 2,
 "cells": [
  {
   "cell_type": "code",
   "execution_count": 16,
   "metadata": {},
   "outputs": [],
   "source": [
    "import hashlib\n",
    "import os\n",
    "import sys\n",
    "from pathlib import Path"
   ]
  },
  {
   "cell_type": "code",
   "execution_count": 23,
   "metadata": {},
   "outputs": [],
   "source": [
    "def  get_file_hashmd5(url_path):\n",
    "    md5 = hashlib.md5()\n",
    "    with open(url_path,'rb') as file:\n",
    "        while True:\n",
    "            content = file.read(8192)\n",
    "            if content:\n",
    "                md5.update(content)\n",
    "            else:\n",
    "                break\n",
    "        return md5.hexdigest()\n",
    "\n"
   ]
  },
  {
   "cell_type": "code",
   "execution_count": 8,
   "metadata": {},
   "outputs": [
    {
     "output_type": "execute_result",
     "data": {
      "text/plain": [
       "'433b93729933800b77dffd6ea6e4c84e'"
      ]
     },
     "metadata": {},
     "execution_count": 8
    }
   ],
   "source": [
    "d = get_file_hashmd5('F:\\\\test\\\\11.txt')\n",
    "d"
   ]
  },
  {
   "cell_type": "code",
   "execution_count": 10,
   "metadata": {},
   "outputs": [
    {
     "output_type": "execute_result",
     "data": {
      "text/plain": [
       "'433b93729933800b77dffd6ea6e4c84e'"
      ]
     },
     "metadata": {},
     "execution_count": 10
    }
   ],
   "source": [
    "b = get_file_hashmd5('G:\\\\test\\\\23.txt')\n",
    "b"
   ]
  },
  {
   "cell_type": "code",
   "execution_count": 22,
   "metadata": {},
   "outputs": [
    {
     "output_type": "execute_result",
     "data": {
      "text/plain": [
       "False"
      ]
     },
     "metadata": {},
     "execution_count": 22
    }
   ],
   "source": [
    "Path('F:\\\\test\\\\113.txt').exists()"
   ]
  },
  {
   "cell_type": "code",
   "execution_count": null,
   "metadata": {},
   "outputs": [],
   "source": [
    "def  get_files(url_path):\n",
    "    "
   ]
  },
  {
   "cell_type": "code",
   "execution_count": null,
   "metadata": {},
   "outputs": [],
   "source": [
    "import psutil\n",
    "\n",
    "services_list = psutil.win_service_iter()\n",
    "for i in services_list:\n",
    "    mes = psutil.win_service_get(i.name())\n",
    "    mes_dict = mes.as_dict()\n",
    "    print(mes_dict['display_name'])\n",
    "    print(mes_dict['name'])\n",
    "    print(mes_dict['binpath'])\n",
    "    print(mes_dict['username'])\n",
    "    print(mes_dict['pid'])\n",
    "    print(mes_dict['description'])\n",
    "    print(mes_dict['start_type'])\n",
    "    print(mes_dict['status'])\n",
    "    print('*'*50)"
   ]
  }
 ]
}