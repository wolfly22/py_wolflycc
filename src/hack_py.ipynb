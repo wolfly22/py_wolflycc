{
 "cells": [
  {
   "cell_type": "code",
   "execution_count": 1,
   "source": [
    "import socket\r\n",
    "import sys\r\n"
   ],
   "outputs": [],
   "metadata": {}
  },
  {
   "cell_type": "code",
   "execution_count": null,
   "source": [
    "s=socket.socket()\r\n",
    "ans=None\r\n",
    "for i in range(1,254):\r\n",
    "    try:\r\n",
    "        s.connect((\"192.168.100.137\",i))\r\n",
    "        ans=s.recv(1024)\r\n",
    "    except Exception as e:\r\n",
    "        print(str(e))\r\n",
    "    finally:\r\n",
    "        if ans:\r\n",
    "            print(\"192.168.100.137:\"+str(i))"
   ],
   "outputs": [],
   "metadata": {}
  },
  {
   "cell_type": "code",
   "execution_count": null,
   "source": [
    "if  len(sys.argv)==2:\r\n",
    "    filename=sys.argv[1]\r\n",
    "    print(filename)\r\n"
   ],
   "outputs": [],
   "metadata": {}
  }
 ],
 "metadata": {
  "orig_nbformat": 4,
  "language_info": {
   "name": "python",
   "version": "3.8.1",
   "mimetype": "text/x-python",
   "codemirror_mode": {
    "name": "ipython",
    "version": 3
   },
   "pygments_lexer": "ipython3",
   "nbconvert_exporter": "python",
   "file_extension": ".py"
  },
  "kernelspec": {
   "name": "python3",
   "display_name": "Python 3.8.1 64-bit"
  },
  "interpreter": {
   "hash": "004de6046f1b3d314f33fdb43a2dc798b2646e5600efd8df5066c8b63a00ff6d"
  }
 },
 "nbformat": 4,
 "nbformat_minor": 2
}