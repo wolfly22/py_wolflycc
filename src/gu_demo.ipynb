{
 "cells": [
  {
   "cell_type": "code",
   "execution_count": 1,
   "source": [
    "import tushare as tu\r\n",
    "import pandas as pd\r\n",
    "import xlrd"
   ],
   "outputs": [],
   "metadata": {}
  },
  {
   "cell_type": "code",
   "execution_count": 25,
   "source": [
    "dd=tu.get_today_ticks('600031')\r\n",
    "dd"
   ],
   "outputs": [
    {
     "output_type": "execute_result",
     "data": {
      "text/plain": [
       "        time  price    vol type\n",
       "0     091502  28.52    452    -\n",
       "1     092038  28.51   3453    -\n",
       "2     092050  28.50   3558    -\n",
       "3     092059  28.48   3698    -\n",
       "4     092108  28.47   3768    -\n",
       "...      ...    ...    ...  ...\n",
       "4772  145651  28.13    731   买入\n",
       "4773  145654  28.15    145   卖出\n",
       "4774  145657  28.15    448   卖出\n",
       "4775  145701  28.14    170   买入\n",
       "4776  150059  28.13  19680   买入\n",
       "\n",
       "[4777 rows x 4 columns]"
      ],
      "text/html": [
       "<div>\n",
       "<style scoped>\n",
       "    .dataframe tbody tr th:only-of-type {\n",
       "        vertical-align: middle;\n",
       "    }\n",
       "\n",
       "    .dataframe tbody tr th {\n",
       "        vertical-align: top;\n",
       "    }\n",
       "\n",
       "    .dataframe thead th {\n",
       "        text-align: right;\n",
       "    }\n",
       "</style>\n",
       "<table border=\"1\" class=\"dataframe\">\n",
       "  <thead>\n",
       "    <tr style=\"text-align: right;\">\n",
       "      <th></th>\n",
       "      <th>time</th>\n",
       "      <th>price</th>\n",
       "      <th>vol</th>\n",
       "      <th>type</th>\n",
       "    </tr>\n",
       "  </thead>\n",
       "  <tbody>\n",
       "    <tr>\n",
       "      <th>0</th>\n",
       "      <td>091502</td>\n",
       "      <td>28.52</td>\n",
       "      <td>452</td>\n",
       "      <td>-</td>\n",
       "    </tr>\n",
       "    <tr>\n",
       "      <th>1</th>\n",
       "      <td>092038</td>\n",
       "      <td>28.51</td>\n",
       "      <td>3453</td>\n",
       "      <td>-</td>\n",
       "    </tr>\n",
       "    <tr>\n",
       "      <th>2</th>\n",
       "      <td>092050</td>\n",
       "      <td>28.50</td>\n",
       "      <td>3558</td>\n",
       "      <td>-</td>\n",
       "    </tr>\n",
       "    <tr>\n",
       "      <th>3</th>\n",
       "      <td>092059</td>\n",
       "      <td>28.48</td>\n",
       "      <td>3698</td>\n",
       "      <td>-</td>\n",
       "    </tr>\n",
       "    <tr>\n",
       "      <th>4</th>\n",
       "      <td>092108</td>\n",
       "      <td>28.47</td>\n",
       "      <td>3768</td>\n",
       "      <td>-</td>\n",
       "    </tr>\n",
       "    <tr>\n",
       "      <th>...</th>\n",
       "      <td>...</td>\n",
       "      <td>...</td>\n",
       "      <td>...</td>\n",
       "      <td>...</td>\n",
       "    </tr>\n",
       "    <tr>\n",
       "      <th>4772</th>\n",
       "      <td>145651</td>\n",
       "      <td>28.13</td>\n",
       "      <td>731</td>\n",
       "      <td>买入</td>\n",
       "    </tr>\n",
       "    <tr>\n",
       "      <th>4773</th>\n",
       "      <td>145654</td>\n",
       "      <td>28.15</td>\n",
       "      <td>145</td>\n",
       "      <td>卖出</td>\n",
       "    </tr>\n",
       "    <tr>\n",
       "      <th>4774</th>\n",
       "      <td>145657</td>\n",
       "      <td>28.15</td>\n",
       "      <td>448</td>\n",
       "      <td>卖出</td>\n",
       "    </tr>\n",
       "    <tr>\n",
       "      <th>4775</th>\n",
       "      <td>145701</td>\n",
       "      <td>28.14</td>\n",
       "      <td>170</td>\n",
       "      <td>买入</td>\n",
       "    </tr>\n",
       "    <tr>\n",
       "      <th>4776</th>\n",
       "      <td>150059</td>\n",
       "      <td>28.13</td>\n",
       "      <td>19680</td>\n",
       "      <td>买入</td>\n",
       "    </tr>\n",
       "  </tbody>\n",
       "</table>\n",
       "<p>4777 rows × 4 columns</p>\n",
       "</div>"
      ]
     },
     "metadata": {},
     "execution_count": 25
    }
   ],
   "metadata": {}
  },
  {
   "cell_type": "code",
   "execution_count": 26,
   "source": [
    "dd_clear=dd[dd['time']>='093030']\r\n",
    "dd_clear"
   ],
   "outputs": [
    {
     "output_type": "execute_result",
     "data": {
      "text/plain": [
       "        time  price    vol type\n",
       "44    093032  28.00   2461   买入\n",
       "45    093035  28.00   2828   买入\n",
       "46    093038  28.00   1902   买入\n",
       "47    093041  27.99   1642   买入\n",
       "48    093044  27.98   1794   买入\n",
       "...      ...    ...    ...  ...\n",
       "4772  145651  28.13    731   买入\n",
       "4773  145654  28.15    145   卖出\n",
       "4774  145657  28.15    448   卖出\n",
       "4775  145701  28.14    170   买入\n",
       "4776  150059  28.13  19680   买入\n",
       "\n",
       "[4733 rows x 4 columns]"
      ],
      "text/html": [
       "<div>\n",
       "<style scoped>\n",
       "    .dataframe tbody tr th:only-of-type {\n",
       "        vertical-align: middle;\n",
       "    }\n",
       "\n",
       "    .dataframe tbody tr th {\n",
       "        vertical-align: top;\n",
       "    }\n",
       "\n",
       "    .dataframe thead th {\n",
       "        text-align: right;\n",
       "    }\n",
       "</style>\n",
       "<table border=\"1\" class=\"dataframe\">\n",
       "  <thead>\n",
       "    <tr style=\"text-align: right;\">\n",
       "      <th></th>\n",
       "      <th>time</th>\n",
       "      <th>price</th>\n",
       "      <th>vol</th>\n",
       "      <th>type</th>\n",
       "    </tr>\n",
       "  </thead>\n",
       "  <tbody>\n",
       "    <tr>\n",
       "      <th>44</th>\n",
       "      <td>093032</td>\n",
       "      <td>28.00</td>\n",
       "      <td>2461</td>\n",
       "      <td>买入</td>\n",
       "    </tr>\n",
       "    <tr>\n",
       "      <th>45</th>\n",
       "      <td>093035</td>\n",
       "      <td>28.00</td>\n",
       "      <td>2828</td>\n",
       "      <td>买入</td>\n",
       "    </tr>\n",
       "    <tr>\n",
       "      <th>46</th>\n",
       "      <td>093038</td>\n",
       "      <td>28.00</td>\n",
       "      <td>1902</td>\n",
       "      <td>买入</td>\n",
       "    </tr>\n",
       "    <tr>\n",
       "      <th>47</th>\n",
       "      <td>093041</td>\n",
       "      <td>27.99</td>\n",
       "      <td>1642</td>\n",
       "      <td>买入</td>\n",
       "    </tr>\n",
       "    <tr>\n",
       "      <th>48</th>\n",
       "      <td>093044</td>\n",
       "      <td>27.98</td>\n",
       "      <td>1794</td>\n",
       "      <td>买入</td>\n",
       "    </tr>\n",
       "    <tr>\n",
       "      <th>...</th>\n",
       "      <td>...</td>\n",
       "      <td>...</td>\n",
       "      <td>...</td>\n",
       "      <td>...</td>\n",
       "    </tr>\n",
       "    <tr>\n",
       "      <th>4772</th>\n",
       "      <td>145651</td>\n",
       "      <td>28.13</td>\n",
       "      <td>731</td>\n",
       "      <td>买入</td>\n",
       "    </tr>\n",
       "    <tr>\n",
       "      <th>4773</th>\n",
       "      <td>145654</td>\n",
       "      <td>28.15</td>\n",
       "      <td>145</td>\n",
       "      <td>卖出</td>\n",
       "    </tr>\n",
       "    <tr>\n",
       "      <th>4774</th>\n",
       "      <td>145657</td>\n",
       "      <td>28.15</td>\n",
       "      <td>448</td>\n",
       "      <td>卖出</td>\n",
       "    </tr>\n",
       "    <tr>\n",
       "      <th>4775</th>\n",
       "      <td>145701</td>\n",
       "      <td>28.14</td>\n",
       "      <td>170</td>\n",
       "      <td>买入</td>\n",
       "    </tr>\n",
       "    <tr>\n",
       "      <th>4776</th>\n",
       "      <td>150059</td>\n",
       "      <td>28.13</td>\n",
       "      <td>19680</td>\n",
       "      <td>买入</td>\n",
       "    </tr>\n",
       "  </tbody>\n",
       "</table>\n",
       "<p>4733 rows × 4 columns</p>\n",
       "</div>"
      ]
     },
     "metadata": {},
     "execution_count": 26
    }
   ],
   "metadata": {}
  },
  {
   "cell_type": "code",
   "execution_count": 27,
   "source": [
    "dd_clear_buy=dd_clear[dd_clear['type']=='买入']\r\n",
    "dd_clear_buy['total']=dd_clear_buy['price']*dd_clear_buy['vol']*100"
   ],
   "outputs": [
    {
     "output_type": "stream",
     "name": "stderr",
     "text": [
      "<ipython-input-27-4f67fd5add16>:2: SettingWithCopyWarning: \n",
      "A value is trying to be set on a copy of a slice from a DataFrame.\n",
      "Try using .loc[row_indexer,col_indexer] = value instead\n",
      "\n",
      "See the caveats in the documentation: https://pandas.pydata.org/pandas-docs/stable/user_guide/indexing.html#returning-a-view-versus-a-copy\n",
      "  dd_clear_buy['total']=dd_clear_buy['price']*dd_clear_buy['vol']*100\n"
     ]
    }
   ],
   "metadata": {}
  },
  {
   "cell_type": "code",
   "execution_count": 28,
   "source": [
    "dd_clear_buy['total'].sum()"
   ],
   "outputs": [
    {
     "output_type": "execute_result",
     "data": {
      "text/plain": [
       "2836603986.0"
      ]
     },
     "metadata": {},
     "execution_count": 28
    }
   ],
   "metadata": {}
  },
  {
   "cell_type": "code",
   "execution_count": 29,
   "source": [
    "dd_clear_buy['total'].sum()"
   ],
   "outputs": [
    {
     "output_type": "execute_result",
     "data": {
      "text/plain": [
       "2836603986.0"
      ]
     },
     "metadata": {},
     "execution_count": 29
    }
   ],
   "metadata": {}
  },
  {
   "cell_type": "code",
   "execution_count": 30,
   "source": [
    "dd_clear_sale=dd_clear[dd_clear['type']=='卖出']\r\n",
    "dd_clear_sale['total']=dd_clear_sale['price']*dd_clear_sale['vol']*100\r\n",
    "dd_clear_sale['total'].sum()"
   ],
   "outputs": [
    {
     "output_type": "stream",
     "name": "stderr",
     "text": [
      "<ipython-input-30-8332e6e35c5f>:2: SettingWithCopyWarning: \n",
      "A value is trying to be set on a copy of a slice from a DataFrame.\n",
      "Try using .loc[row_indexer,col_indexer] = value instead\n",
      "\n",
      "See the caveats in the documentation: https://pandas.pydata.org/pandas-docs/stable/user_guide/indexing.html#returning-a-view-versus-a-copy\n",
      "  dd_clear_sale['total']=dd_clear_sale['price']*dd_clear_sale['vol']*100\n"
     ]
    },
    {
     "output_type": "execute_result",
     "data": {
      "text/plain": [
       "2501358046.0"
      ]
     },
     "metadata": {},
     "execution_count": 30
    }
   ],
   "metadata": {}
  },
  {
   "cell_type": "code",
   "execution_count": null,
   "source": [],
   "outputs": [],
   "metadata": {}
  },
  {
   "cell_type": "code",
   "execution_count": 31,
   "source": [
    "\r\n",
    "print(dd_clear_buy['total'].sum()-dd_clear_sale['total'].sum())\r\n",
    "print(dd_clear_buy['total'].sum()+dd_clear_sale['total'].sum())"
   ],
   "outputs": [
    {
     "output_type": "stream",
     "name": "stdout",
     "text": [
      "335245940.0\n",
      "5337962032.0\n"
     ]
    }
   ],
   "metadata": {}
  },
  {
   "cell_type": "code",
   "execution_count": 116,
   "source": [
    "def analyze():\r\n",
    "    datas=pd.read_excel(r'F:\\gu\\20210907\\000333-0907.xlsx',sheet_name=0,names=['time','price','num','other','type'],parse_dates=[0])\r\n",
    "    row,col=datas.shape\r\n",
    "    # print(row,col)\r\n",
    "    # print(datas)\r\n",
    "    datas=datas[3:row-1]\r\n",
    "    # print(datas)\r\n",
    "    datas=datas[datas['time']>='09:30:00']\r\n",
    "    # print(datas.shape)\r\n",
    "    datas['total']=datas['price']*datas['num']\r\n",
    "    buy=datas[datas['type']=='B']['total'].sum()\r\n",
    "    # print('buy:',buy/1000000)\r\n",
    "    sale=datas[datas['type']=='S']['total'].sum()\r\n",
    "    print('sale:',sale/1000000)\r\n",
    "    print('substruction:',(buy-sale)/1000000)\r\n",
    "    print('total:',(buy+sale)/1000000)\r\n",
    "    #分析大单的情况:\r\n",
    "    big=(datas[datas['num']>=70])\r\n",
    "    print(big.shape)\r\n",
    "    big_buy=big[big['type']=='B']\r\n",
    "    big_sale=big[big['type']=='S']\r\n",
    "    buy_total=big_buy['price']*big_buy['num']\r\n",
    "    big_buy.insert(5,'SB_total',buy_total)\r\n",
    "    sale_total=big_sale['price']*big_sale['num']\r\n",
    "    big_sale.insert(5,'SB_total',sale_total)\r\n",
    "    print('大买单： %s      \\n大买单： %s' %(str(big_buy['SB_total'].sum()/1000000) ,str(big_sale['SB_total'].sum()/1000000)))\r\n",
    "    distance_volumn=(big_buy['SB_total'].sum())-(big_sale['SB_total'].sum())\r\n",
    "    print('大单的差量为：%f 亿'  %(distance_volumn/1000000))"
   ],
   "outputs": [],
   "metadata": {}
  },
  {
   "cell_type": "code",
   "execution_count": 117,
   "source": [
    "analyze()"
   ],
   "outputs": [
    {
     "output_type": "stream",
     "name": "stdout",
     "text": [
      "(4724, 5)\n",
      "buy: 12.312395140000012\n",
      "sale: 15.31920652999998\n",
      "substruction: -3.006811389999967\n",
      "total: 27.63160166999999\n",
      "(1771, 6)\n",
      "大买单： 9.433173490000016      \n",
      "大买单： 11.494923380000007\n",
      "大单的差量为：-2.061750 亿\n"
     ]
    }
   ],
   "metadata": {}
  },
  {
   "cell_type": "code",
   "execution_count": 98,
   "source": [
    "datas=pd.read_excel(r'F:\\gu\\20210903\\xy.xlsx',sheet_name=0,names=['time','price','num','other','type'],parse_dates=[0])\r\n",
    "row,col=datas.shape\r\n",
    "datas=datas[3:row-1]\r\n",
    "big=(datas[datas['num']>=70])\r\n",
    "big_buy=big[big['type']=='S']\r\n",
    "big_sale=big[big['type']=='B']\r\n",
    "buy_total=big_buy['price']*big_buy['num']\r\n",
    "big_buy.insert(5,'total',buy_total)\r\n",
    "sale_total=big_sale['price']*big_sale['num']\r\n",
    "big_sale.insert(5,'total',sale_total)\r\n",
    "print('大买单： %s      \\n大买单： %s' %(str(big_buy['total'].sum()/1000000) ,str(big_sale['total'].sum()/1000000)))\r\n",
    "distance_volumn=(big_buy['total'].sum())-(big_sale['total'].sum())\r\n",
    "print('大单的差量为：%f 亿'  %(distance_volumn/1000000))\r\n",
    "\r\n",
    "\r\n"
   ],
   "outputs": [
    {
     "output_type": "stream",
     "name": "stdout",
     "text": [
      "大买单： 1.6483783099999991      \n",
      "大买单： 1.8863967300000017\n",
      "-0.23801842000000273\n",
      "大单的差量为：-0.238018 亿\n"
     ]
    }
   ],
   "metadata": {}
  },
  {
   "cell_type": "code",
   "execution_count": 87,
   "source": [
    "datas"
   ],
   "outputs": [
    {
     "output_type": "execute_result",
     "data": {
      "text/plain": [
       "          time  price   num other type\n",
       "3     09:25:00   9.72  3058     0  NaN\n",
       "4     09:30:00   9.68   296     0    S\n",
       "5     09:30:00   9.73  1439     0    B\n",
       "6     09:30:00   9.73   826     0    S\n",
       "7     09:30:00   9.71  1807     0    S\n",
       "...        ...    ...   ...   ...  ...\n",
       "1521  10:47:00  10.04    42     0    S\n",
       "1522  10:47:00  10.05    17     0    B\n",
       "1523  10:47:00  10.05    28     0    B\n",
       "1524  10:47:00  10.04    57     0    S\n",
       "1525  10:47:00  10.05   196     0    B\n",
       "\n",
       "[1523 rows x 5 columns]"
      ],
      "text/html": [
       "<div>\n",
       "<style scoped>\n",
       "    .dataframe tbody tr th:only-of-type {\n",
       "        vertical-align: middle;\n",
       "    }\n",
       "\n",
       "    .dataframe tbody tr th {\n",
       "        vertical-align: top;\n",
       "    }\n",
       "\n",
       "    .dataframe thead th {\n",
       "        text-align: right;\n",
       "    }\n",
       "</style>\n",
       "<table border=\"1\" class=\"dataframe\">\n",
       "  <thead>\n",
       "    <tr style=\"text-align: right;\">\n",
       "      <th></th>\n",
       "      <th>time</th>\n",
       "      <th>price</th>\n",
       "      <th>num</th>\n",
       "      <th>other</th>\n",
       "      <th>type</th>\n",
       "    </tr>\n",
       "  </thead>\n",
       "  <tbody>\n",
       "    <tr>\n",
       "      <th>3</th>\n",
       "      <td>09:25:00</td>\n",
       "      <td>9.72</td>\n",
       "      <td>3058</td>\n",
       "      <td>0</td>\n",
       "      <td>NaN</td>\n",
       "    </tr>\n",
       "    <tr>\n",
       "      <th>4</th>\n",
       "      <td>09:30:00</td>\n",
       "      <td>9.68</td>\n",
       "      <td>296</td>\n",
       "      <td>0</td>\n",
       "      <td>S</td>\n",
       "    </tr>\n",
       "    <tr>\n",
       "      <th>5</th>\n",
       "      <td>09:30:00</td>\n",
       "      <td>9.73</td>\n",
       "      <td>1439</td>\n",
       "      <td>0</td>\n",
       "      <td>B</td>\n",
       "    </tr>\n",
       "    <tr>\n",
       "      <th>6</th>\n",
       "      <td>09:30:00</td>\n",
       "      <td>9.73</td>\n",
       "      <td>826</td>\n",
       "      <td>0</td>\n",
       "      <td>S</td>\n",
       "    </tr>\n",
       "    <tr>\n",
       "      <th>7</th>\n",
       "      <td>09:30:00</td>\n",
       "      <td>9.71</td>\n",
       "      <td>1807</td>\n",
       "      <td>0</td>\n",
       "      <td>S</td>\n",
       "    </tr>\n",
       "    <tr>\n",
       "      <th>...</th>\n",
       "      <td>...</td>\n",
       "      <td>...</td>\n",
       "      <td>...</td>\n",
       "      <td>...</td>\n",
       "      <td>...</td>\n",
       "    </tr>\n",
       "    <tr>\n",
       "      <th>1521</th>\n",
       "      <td>10:47:00</td>\n",
       "      <td>10.04</td>\n",
       "      <td>42</td>\n",
       "      <td>0</td>\n",
       "      <td>S</td>\n",
       "    </tr>\n",
       "    <tr>\n",
       "      <th>1522</th>\n",
       "      <td>10:47:00</td>\n",
       "      <td>10.05</td>\n",
       "      <td>17</td>\n",
       "      <td>0</td>\n",
       "      <td>B</td>\n",
       "    </tr>\n",
       "    <tr>\n",
       "      <th>1523</th>\n",
       "      <td>10:47:00</td>\n",
       "      <td>10.05</td>\n",
       "      <td>28</td>\n",
       "      <td>0</td>\n",
       "      <td>B</td>\n",
       "    </tr>\n",
       "    <tr>\n",
       "      <th>1524</th>\n",
       "      <td>10:47:00</td>\n",
       "      <td>10.04</td>\n",
       "      <td>57</td>\n",
       "      <td>0</td>\n",
       "      <td>S</td>\n",
       "    </tr>\n",
       "    <tr>\n",
       "      <th>1525</th>\n",
       "      <td>10:47:00</td>\n",
       "      <td>10.05</td>\n",
       "      <td>196</td>\n",
       "      <td>0</td>\n",
       "      <td>B</td>\n",
       "    </tr>\n",
       "  </tbody>\n",
       "</table>\n",
       "<p>1523 rows × 5 columns</p>\n",
       "</div>"
      ]
     },
     "metadata": {},
     "execution_count": 87
    }
   ],
   "metadata": {}
  },
  {
   "cell_type": "code",
   "execution_count": 84,
   "source": [
    "row,col=datas_nan.shape\r\n",
    "print(row,col)"
   ],
   "outputs": [
    {
     "output_type": "stream",
     "name": "stdout",
     "text": [
      "124 5\n"
     ]
    }
   ],
   "metadata": {}
  },
  {
   "cell_type": "code",
   "execution_count": 52,
   "source": [
    "print(covern_money(str(24864026.900000043)))"
   ],
   "outputs": [
    {
     "output_type": "stream",
     "name": "stdout",
     "text": [
      "24亿864026.9\n"
     ]
    }
   ],
   "metadata": {}
  },
  {
   "cell_type": "code",
   "execution_count": 51,
   "source": [
    "def covern_money(str_money):\r\n",
    "    index=str_money.find('.')\r\n",
    "    # print(index)\r\n",
    "    if(index>6):\r\n",
    "        return str_money[:index-6]+'亿'+str_money[index-6:index+2]\r\n",
    "    else:\r\n",
    "        return '0.'+str_money[:index]+'亿'\r\n",
    "    "
   ],
   "outputs": [],
   "metadata": {}
  },
  {
   "cell_type": "code",
   "execution_count": 71,
   "source": [
    "import numpy as np\r\n",
    "df = pd.DataFrame(np.random.randint(1,10,(4,5)),columns=[\"A\",\"B\",\"C\",\"D\",\"E\"])\r\n",
    "print(df)\r\n",
    "df['F']=0\r\n",
    "for i in range(df.shape[0]):\r\n",
    "    df['F']=df['A']*df['B']\r\n",
    "print(df)\r\n"
   ],
   "outputs": [
    {
     "output_type": "stream",
     "name": "stdout",
     "text": [
      "   A  B  C  D  E\n",
      "0  4  6  5  9  6\n",
      "1  8  1  7  7  9\n",
      "2  2  4  3  6  3\n",
      "3  8  1  1  5  9\n",
      "   A  B  C  D  E   F\n",
      "0  4  6  5  9  6  24\n",
      "1  8  1  7  7  9   8\n",
      "2  2  4  3  6  3   8\n",
      "3  8  1  1  5  9   8\n"
     ]
    }
   ],
   "metadata": {}
  }
 ],
 "metadata": {
  "orig_nbformat": 4,
  "language_info": {
   "name": "python",
   "version": "3.8.1",
   "mimetype": "text/x-python",
   "codemirror_mode": {
    "name": "ipython",
    "version": 3
   },
   "pygments_lexer": "ipython3",
   "nbconvert_exporter": "python",
   "file_extension": ".py"
  },
  "kernelspec": {
   "name": "python3",
   "display_name": "Python 3.8.1 64-bit"
  },
  "interpreter": {
   "hash": "004de6046f1b3d314f33fdb43a2dc798b2646e5600efd8df5066c8b63a00ff6d"
  }
 },
 "nbformat": 4,
 "nbformat_minor": 2
}